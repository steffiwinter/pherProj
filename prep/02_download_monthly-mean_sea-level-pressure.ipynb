{
 "cells": [
  {
   "cell_type": "code",
   "execution_count": 1,
   "id": "36efa5f5-7bef-45f3-8471-6f387ee0d6c3",
   "metadata": {},
   "outputs": [],
   "source": [
    "# % lässt es zu Magic-Funktion werden, ermöglicht es direkt aus der Zelle auszuführen, obwohl es nicht in Sprachumfang von Python liegt (Betriebssystemkommandos zb) \n",
    "# %pip install --upgrade cdsapi"
   ]
  },
  {
   "cell_type": "markdown",
   "id": "9d192e7c-86b5-4acf-8818-0f6ccda6be40",
   "metadata": {},
   "source": [
    "Download from https://cds.climate.copernicus.eu/datasets/reanalysis-era5-single-levels-monthly-means"
   ]
  },
  {
   "cell_type": "code",
   "execution_count": 2,
   "id": "5caa35f1-8e18-40d3-9bdb-1441c548c3b9",
   "metadata": {},
   "outputs": [
    {
     "name": "stderr",
     "output_type": "stream",
     "text": [
      "2024-11-10 12:49:54,586 INFO [2024-09-28T00:00:00] **Welcome to the New Climate Data Store (CDS)!** This new system is in its early days of full operations and still undergoing enhancements and fine tuning. Some disruptions are to be expected. Your \n",
      "[feedback](https://jira.ecmwf.int/plugins/servlet/desk/portal/1/create/202) is key to improve the user experience on the new CDS for the benefit of everyone. Thank you.\n",
      "2024-11-10 12:49:54,587 WARNING [2024-09-26T00:00:00] Should you have not yet migrated from the old CDS system to the new CDS, please check our [informative page](https://confluence.ecmwf.int/x/uINmFw) for guidance.\n",
      "2024-11-10 12:49:54,588 INFO [2024-09-26T00:00:00] Watch our [Forum](https://forum.ecmwf.int/) for Announcements, news and other discussed topics.\n",
      "2024-11-10 12:49:54,588 INFO [2024-09-16T00:00:00] Remember that you need to have an ECMWF account to use the new CDS. **Your old CDS credentials will not work in new CDS!**\n",
      "2024-11-10 12:49:54,589 WARNING [2024-06-16T00:00:00] CDS API syntax is changed and some keys or parameter names may have also changed. To avoid requests failing, please use the \"Show API request code\" tool on the dataset Download Form to check you are using the correct syntax for your API request.\n",
      "2024-11-10 12:49:54,832 WARNING [2024-10-10T00:00:00] The final validated ERA5 differs from ERA5T from July 2024 until further notice - please refer to our\n",
      "[Forum announcement](https://forum.ecmwf.int/t/final-validated-era5-product-to-differ-from-era5t-in-july-2024/6685)\n",
      "for details and watch it for further updates on this.\n",
      "2024-11-10 12:49:54,833 INFO Request ID is 509e4a2c-41a9-42ac-ae3d-dac9aa317529\n",
      "2024-11-10 12:49:54,910 INFO status has been updated to accepted\n",
      "2024-11-10 12:49:57,561 INFO status has been updated to running\n",
      "2024-11-10 12:49:59,864 INFO status has been updated to successful\n"
     ]
    },
    {
     "data": {
      "application/vnd.jupyter.widget-view+json": {
       "model_id": "",
       "version_major": 2,
       "version_minor": 0
      },
      "text/plain": [
       "8cad9ee674f41976f00e9bc81919952.nc:   0%|          | 0.00/465M [00:00<?, ?B/s]"
      ]
     },
     "metadata": {},
     "output_type": "display_data"
    },
    {
     "data": {
      "text/plain": [
       "'tmp_slp_1m.nc'"
      ]
     },
     "execution_count": 2,
     "metadata": {},
     "output_type": "execute_result"
    }
   ],
   "source": [
    "import cdsapi\n",
    "\n",
    "dataset = \"reanalysis-era5-single-levels-monthly-means\"\n",
    "request = {\n",
    "    \"product_type\": [\"monthly_averaged_reanalysis\"],\n",
    "    \"variable\": [\"mean_sea_level_pressure\"],\n",
    "    \"year\": [str(year) for year in range(1993, 2024 + 1)],\n",
    "    \"month\": [\n",
    "        \"01\", \"02\", \"03\",\n",
    "        \"04\", \"05\", \"06\",\n",
    "        \"07\", \"08\", \"09\",\n",
    "        \"10\", \"11\", \"12\"\n",
    "    ],\n",
    "    \"time\": [\"00:00\"],\n",
    "    \"data_format\": \"netcdf\",\n",
    "    \"download_format\": \"unarchived\"\n",
    "}\n",
    "\n",
    "client = cdsapi.Client()\n",
    "client.retrieve(dataset, request).download(\"tmp_slp_1m.nc\")"
   ]
  },
  {
   "cell_type": "code",
   "execution_count": 3,
   "id": "c1cd345a-88df-46a5-8f42-1d370be33012",
   "metadata": {},
   "outputs": [],
   "source": [
    "import xarray as xr\n",
    "import numpy as np"
   ]
  },
  {
   "cell_type": "code",
   "execution_count": 4,
   "id": "5ba07e41-34b0-4556-b8a8-4ae8bd03ef5f",
   "metadata": {},
   "outputs": [
    {
     "name": "stderr",
     "output_type": "stream",
     "text": [
      "/tmp/ipykernel_1723/2197954688.py:3: UserWarning: Converting non-nanosecond precision datetime values to nanosecond precision. This behavior can eventually be relaxed in xarray, as it is an artifact from pandas which is now beginning to support non-nanosecond precision values. This warning is caused by passing non-nanosecond np.datetime64 or np.timedelta64 values to the DataArray or Variable constructor; it can be silenced by converting the values to nanosecond precision ahead of time.\n",
      "  ds = ds.rename({\"date\": \"time\"}).assign_coords(time=time)\n"
     ]
    }
   ],
   "source": [
    "ds = xr.open_dataset(\"tmp_slp_1m.nc\")\n",
    "time = [np.datetime64('-'.join([str(d)[:4], str(d)[4:6], str(d)[6:]])) for d in ds.date.data]\n",
    "ds = ds.rename({\"date\": \"time\"}).assign_coords(time=time)\n",
    "ds = ds.drop_vars([\"number\", \"expver\"])\n",
    "ds.drop_encoding().to_netcdf(\"../../data/slp_1m.nc\")"
   ]
  },
  {
   "cell_type": "code",
   "execution_count": 5,
   "id": "811658c3-9044-40b9-9c3d-fea9aaf77375",
   "metadata": {},
   "outputs": [],
   "source": [
    "!rm -rf tmp_slp_1m.nc"
   ]
  }
 ],
 "metadata": {
  "kernelspec": {
   "display_name": "Python 3 (ipykernel)",
   "language": "python",
   "name": "python3"
  },
  "language_info": {
   "codemirror_mode": {
    "name": "ipython",
    "version": 3
   },
   "file_extension": ".py",
   "mimetype": "text/x-python",
   "name": "python",
   "nbconvert_exporter": "python",
   "pygments_lexer": "ipython3",
   "version": "3.12.5"
  }
 },
 "nbformat": 4,
 "nbformat_minor": 5
}
